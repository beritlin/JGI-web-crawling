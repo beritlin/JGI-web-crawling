{
 "cells": [
  {
   "cell_type": "markdown",
   "metadata": {},
   "source": [
    "# JGI Web Crawler"
   ]
  },
  {
   "cell_type": "markdown",
   "metadata": {},
   "source": [
    "### packages"
   ]
  },
  {
   "cell_type": "code",
   "execution_count": 165,
   "metadata": {},
   "outputs": [],
   "source": [
    "from selenium import webdriver\n",
    "import requests\n",
    "from bs4 import BeautifulSoup\n",
    "import re\n",
    "import pandas as pd\n",
    "import time"
   ]
  },
  {
   "cell_type": "markdown",
   "metadata": {},
   "source": [
    "### import the list of fungal name abbreviation "
   ]
  },
  {
   "cell_type": "code",
   "execution_count": 293,
   "metadata": {},
   "outputs": [],
   "source": [
    "funname=pd.read_csv('funnm.txt',sep='\\t',header=None)\n",
    "lenname=funname.count()"
   ]
  },
  {
   "cell_type": "markdown",
   "metadata": {},
   "source": [
    "### crawling fungal names on JGI website"
   ]
  },
  {
   "cell_type": "code",
   "execution_count": 204,
   "metadata": {},
   "outputs": [
    {
     "name": "stdout",
     "output_type": "stream",
     "text": [
      "Acremonium chrysogenum ATCC 11550\n"
     ]
    }
   ],
   "source": [
    "driver_path = \".../chromedriver\"\n",
    "driver = webdriver.Chrome(driver_path)\n",
    "link=\"https://genome.jgi.doe.gov/portal/\"\n",
    "driver.get(link)\n",
    "time.sleep(1)\n",
    "\n",
    "\n",
    "for i in range(lenname[0]):\n",
    "    sp=funname.iloc[i]\n",
    "        inputsp = driver.find_element_by_id('query')\n",
    "        inputsp.send_keys(sp[0])\n",
    "        search = driver.find_element_by_id('submit')\n",
    "        search.click() \n",
    "        time.sleep(1)\n",
    "        \n",
    "        html = driver.page_source \n",
    "        soup = BeautifulSoup(html,\"html.parser\")\n",
    "\n",
    "\n",
    "        table = soup.find('td',{'style':'min-width: 300px'})\n",
    "        name = table.find_all('a',class_='ng-scope')[1]\n",
    "        inputsp.clear()\n",
    "    \n",
    "        print(i,name.text)\n",
    "\n",
    "driver.close()"
   ]
  }
 ],
 "metadata": {
  "kernelspec": {
   "display_name": "Python 3",
   "language": "python",
   "name": "python3"
  },
  "language_info": {
   "codemirror_mode": {
    "name": "ipython",
    "version": 3
   },
   "file_extension": ".py",
   "mimetype": "text/x-python",
   "name": "python",
   "nbconvert_exporter": "python",
   "pygments_lexer": "ipython3",
   "version": "3.7.4"
  }
 },
 "nbformat": 4,
 "nbformat_minor": 2
}
